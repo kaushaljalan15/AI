{
  "nbformat": 4,
  "nbformat_minor": 0,
  "metadata": {
    "colab": {
      "name": "FOL-to-CNF",
      "provenance": []
    },
    "kernelspec": {
      "name": "python3",
      "display_name": "Python 3"
    }
  },
  "cells": [
    {
      "cell_type": "markdown",
      "metadata": {
        "id": "VmLuctFugIoO"
      },
      "source": [
        "# FOL-to-CNF"
      ]
    },
    {
      "cell_type": "code",
      "metadata": {
        "id": "ei1Vn4HrwU_j"
      },
      "source": [
        "def getAttributes(string):\r\n",
        "    expr = '\\([^)]+\\)'\r\n",
        "    matches = re.findall(expr, string)\r\n",
        "    return [m for m in str(matches) if m.isalpha()]\r\n",
        "\r\n",
        "def getPredicates(string):\r\n",
        "    expr = '[a-z~]+\\([A-Za-z,]+\\)'\r\n",
        "    return re.findall(expr, string)\r\n",
        "\r\n",
        "def DeMorgan(sentence):\r\n",
        "    string = ''.join(list(sentence).copy())\r\n",
        "    string = string.replace('~~','')\r\n",
        "    flag = '[' in string\r\n",
        "    string = string.replace('~[','')\r\n",
        "    string = string.strip(']')\r\n",
        "    for predicate in getPredicates(string):\r\n",
        "        string = string.replace(predicate, f'~{predicate}')\r\n",
        "    s = list(string)\r\n",
        "    for i, c in enumerate(string):\r\n",
        "        if c == '|':\r\n",
        "            s[i] = '&'\r\n",
        "        elif c == '&':\r\n",
        "            s[i] = '|'\r\n",
        "    string = ''.join(s)    \r\n",
        "    string = string.replace('~~','')\r\n",
        "    return f'[{string}]' if flag else string"
      ],
      "execution_count": 1,
      "outputs": []
    },
    {
      "cell_type": "code",
      "metadata": {
        "id": "Xk9VpyVPwFn4"
      },
      "source": [
        "import re\r\n",
        "\r\n",
        "def fol_to_cnf(fol):\r\n",
        "    \r\n",
        "    statement = fol.replace(\"<=>\", \"_\")\r\n",
        "    while '_' in statement:\r\n",
        "        i = statement.index('_')\r\n",
        "        new_statement = '[' + statement[:i] + '=>' + statement[i+1:] + ']&['+ statement[i+1:] + '=>' + statement[:i] + ']'\r\n",
        "        statement = new_statement\r\n",
        "    statement = statement.replace(\"=>\", \"-\")\r\n",
        "    expr = '\\[([^]]+)\\]'\r\n",
        "    statements = re.findall(expr, statement)\r\n",
        "    for i, s in enumerate(statements):\r\n",
        "        if '[' in s and ']' not in s:\r\n",
        "            statements[i] += ']'\r\n",
        "    for s in statements:\r\n",
        "        statement = statement.replace(s, fol_to_cnf(s))\r\n",
        "    while '-' in statement:\r\n",
        "        i = statement.index('-')\r\n",
        "        br = statement.index('[') if '[' in statement else 0\r\n",
        "        new_statement = '~' + statement[br:i] + '|' + statement[i+1:]\r\n",
        "        statement = statement[:br] + new_statement if br > 0 else new_statement\r\n",
        "    while '~∀' in statement:\r\n",
        "        i = statement.index('~∀')\r\n",
        "        statement = list(statement)\r\n",
        "        statement[i], statement[i+1], statement[i+2] = '∃', statement[i+2], '~'\r\n",
        "        statement = ''.join(statement)\r\n",
        "    while '~∃' in statement:\r\n",
        "        i = statement.index('~∃')\r\n",
        "        s = list(statement)\r\n",
        "        s[i], s[i+1], s[i+2] = '∀', s[i+2], '~'\r\n",
        "        statement = ''.join(s)\r\n",
        "    statement = statement.replace('~[∀','[~∀')\r\n",
        "    statement = statement.replace('~[∃','[~∃')\r\n",
        "    expr = '(~[∀|∃].)'\r\n",
        "    statements = re.findall(expr, statement)\r\n",
        "    for s in statements:\r\n",
        "        statement = statement.replace(s, fol_to_cnf(s))\r\n",
        "    expr = '~\\[[^]]+\\]'\r\n",
        "    statements = re.findall(expr, statement)\r\n",
        "    for s in statements:\r\n",
        "        statement = statement.replace(s, DeMorgan(s))\r\n",
        "    return statement"
      ],
      "execution_count": 2,
      "outputs": []
    },
    {
      "cell_type": "code",
      "metadata": {
        "colab": {
          "base_uri": "https://localhost:8080/",
          "height": 35
        },
        "id": "Zf2xJ95ywPvh",
        "outputId": "6697d7ca-1289-4183-9c8d-b1ad3882f60f"
      },
      "source": [
        "fol_to_cnf(\"(Ax)(P(x) => ((Ay)(P(y) => P(f(x,y))) ^ ~(Ay)(Q(x,y) => P(y))))\")"
      ],
      "execution_count": 3,
      "outputs": [
        {
          "output_type": "execute_result",
          "data": {
            "application/vnd.google.colaboratory.intrinsic+json": {
              "type": "string"
            },
            "text/plain": [
              "'~~~(Ax)(P(x) | ((Ay)(P(y) | P(f(x,y))) ^ ~(Ay)(Q(x,y) | P(y))))'"
            ]
          },
          "metadata": {
            "tags": []
          },
          "execution_count": 3
        }
      ]
    },
    {
      "cell_type": "code",
      "metadata": {
        "colab": {
          "base_uri": "https://localhost:8080/",
          "height": 35
        },
        "id": "kqka-O9Gf9NV",
        "outputId": "8c0d855c-2666-4246-ab0d-b6ae1b8e61b7"
      },
      "source": [
        "fol_to_cnf(\"animal(y)<=>loves(x,y)\")"
      ],
      "execution_count": 4,
      "outputs": [
        {
          "output_type": "execute_result",
          "data": {
            "application/vnd.google.colaboratory.intrinsic+json": {
              "type": "string"
            },
            "text/plain": [
              "'[~animal(y)|loves(x,y)]&[~loves(x,y)|animal(y)]'"
            ]
          },
          "metadata": {
            "tags": []
          },
          "execution_count": 4
        }
      ]
    },
    {
      "cell_type": "code",
      "metadata": {
        "colab": {
          "base_uri": "https://localhost:8080/",
          "height": 35
        },
        "id": "PhM-RhicgBhd",
        "outputId": "feb8c356-e49c-405c-aaae-1ce5f36a2c30"
      },
      "source": [
        "fol_to_cnf(\"[american(x)&weapon(y)&sells(x,y,z)&hostile(z)]=>criminal(x)\")"
      ],
      "execution_count": 6,
      "outputs": [
        {
          "output_type": "execute_result",
          "data": {
            "application/vnd.google.colaboratory.intrinsic+json": {
              "type": "string"
            },
            "text/plain": [
              "'[~american(x)|~weapon(y)|~sells(x,y,z)|~hostile(z)]|criminal(x)'"
            ]
          },
          "metadata": {
            "tags": []
          },
          "execution_count": 6
        }
      ]
    },
    {
      "cell_type": "code",
      "metadata": {
        "colab": {
          "base_uri": "https://localhost:8080/",
          "height": 35
        },
        "id": "q43rK0Wtf_bk",
        "outputId": "9cd32130-fa0b-4326-c66a-0cc6e3d97062"
      },
      "source": [
        "fol_to_cnf(\"∀x[∀y[animal(y)=>loves(x,y)]]=>[∃z[loves(z,x)]]\")"
      ],
      "execution_count": 5,
      "outputs": [
        {
          "output_type": "execute_result",
          "data": {
            "application/vnd.google.colaboratory.intrinsic+json": {
              "type": "string"
            },
            "text/plain": [
              "'∀x[∃y[animal(y)&~loves(x,y)]]|[∃z[loves(z,x)]]'"
            ]
          },
          "metadata": {
            "tags": []
          },
          "execution_count": 5
        }
      ]
    }
  ]
}