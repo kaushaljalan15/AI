{
  "nbformat": 4,
  "nbformat_minor": 0,
  "metadata": {
    "colab": {
      "name": "unification",
      "provenance": []
    },
    "kernelspec": {
      "name": "python3",
      "display_name": "Python 3"
    }
  },
  "cells": [
    {
      "cell_type": "code",
      "metadata": {
        "id": "NTP7d8RCxeTW"
      },
      "source": [
        "import re\r\n",
        "\r\n",
        "def getAttributes(expression):\r\n",
        "    expression = expression.split(\"(\")[1:]\r\n",
        "    expression = \"(\".join(expression)\r\n",
        "    expression = expression[:-1]\r\n",
        "    expression = re.split(\"(?<!\\(.),(?!.\\))\", expression)\r\n",
        "    return expression"
      ],
      "execution_count": 1,
      "outputs": []
    },
    {
      "cell_type": "code",
      "metadata": {
        "id": "znnCsQ3JxicY"
      },
      "source": [
        "def getInitialPredicate(expression):\r\n",
        "    return expression.split(\"(\")[0]\r\n",
        "\r\n",
        "def isConstant(char):\r\n",
        "    return char.isupper() and len(char) == 1\r\n",
        "\r\n",
        "def isVariable(char):\r\n",
        "    return char.islower() and len(char) == 1\r\n",
        "\r\n",
        "def replaceAttributes(exp, old, new):\r\n",
        "    attributes = getAttributes(exp)\r\n",
        "    for index, val in enumerate(attributes):\r\n",
        "        if val == old:\r\n",
        "            attributes[index] = new\r\n",
        "    predicate = getInitialPredicate(exp)\r\n",
        "    return predicate + \"(\" + \",\".join(attributes) + \")\"\r\n",
        "\r\n",
        "def apply(exp, substitutions):\r\n",
        "    for substitution in substitutions:\r\n",
        "        new, old = substitution\r\n",
        "        exp = replaceAttributes(exp, old, new)\r\n",
        "    return exp"
      ],
      "execution_count": 2,
      "outputs": []
    },
    {
      "cell_type": "code",
      "metadata": {
        "id": "EYHRj4F9xkQH"
      },
      "source": [
        "def checkOccurs(var, exp):\r\n",
        "    if exp.find(var) == -1:\r\n",
        "        return False\r\n",
        "    return True\r\n",
        "\r\n",
        "\r\n",
        "def getFirstPart(expression):\r\n",
        "    attributes = getAttributes(expression)\r\n",
        "    return attributes[0]\r\n",
        "\r\n",
        "\r\n",
        "def getRemainingPart(expression):\r\n",
        "    predicate = getInitialPredicate(expression)\r\n",
        "    attributes = getAttributes(expression)\r\n",
        "    newExpression = predicate + \"(\" + \",\".join(attributes[1:]) + \")\"\r\n",
        "    return newExpression"
      ],
      "execution_count": 3,
      "outputs": []
    },
    {
      "cell_type": "code",
      "metadata": {
        "id": "V7UyPrNHxpMf"
      },
      "source": [
        "def unify(exp1, exp2):\r\n",
        "    if exp1 == exp2:\r\n",
        "        return []\r\n",
        "\r\n",
        "    if isConstant(exp1) and isConstant(exp2):\r\n",
        "        if exp1 != exp2:\r\n",
        "            return False\r\n",
        "\r\n",
        "    if isConstant(exp1):\r\n",
        "        return [(exp1, exp2)]\r\n",
        "\r\n",
        "    if isConstant(exp2):\r\n",
        "        return [(exp2, exp1)]\r\n",
        "\r\n",
        "    if isVariable(exp1):\r\n",
        "        if checkOccurs(exp1, exp2):\r\n",
        "            return False\r\n",
        "        else:\r\n",
        "            return [(exp2, exp1)]\r\n",
        "\r\n",
        "    if isVariable(exp2):\r\n",
        "        if checkOccurs(exp2, exp1):\r\n",
        "            return False\r\n",
        "        else:\r\n",
        "            return [(exp1, exp2)]\r\n",
        "\r\n",
        "    if getInitialPredicate(exp1) != getInitialPredicate(exp2):\r\n",
        "        print(\"Predicates do not match. Cannot be unified\")\r\n",
        "        return False\r\n",
        "\r\n",
        "    attributeCount1 = len(getAttributes(exp1))\r\n",
        "    attributeCount2 = len(getAttributes(exp2))\r\n",
        "    if attributeCount1 != attributeCount2:\r\n",
        "        return False\r\n",
        "\r\n",
        "    head1 = getFirstPart(exp1)\r\n",
        "    head2 = getFirstPart(exp2)\r\n",
        "    initialSubstitution = unify(head1, head2)\r\n",
        "    if not initialSubstitution:\r\n",
        "        return False\r\n",
        "    if attributeCount1 == 1:\r\n",
        "        return initialSubstitution\r\n",
        "\r\n",
        "    tail1 = getRemainingPart(exp1)\r\n",
        "    tail2 = getRemainingPart(exp2)\r\n",
        "\r\n",
        "    if initialSubstitution != []:\r\n",
        "        tail1 = apply(tail1, initialSubstitution)\r\n",
        "        tail2 = apply(tail2, initialSubstitution)\r\n",
        "\r\n",
        "    remainingSubstitution = unify(tail1, tail2)\r\n",
        "    if not remainingSubstitution:\r\n",
        "        return False\r\n",
        "\r\n",
        "    initialSubstitution.extend(remainingSubstitution)\r\n",
        "    return initialSubstitution"
      ],
      "execution_count": 4,
      "outputs": []
    },
    {
      "cell_type": "markdown",
      "metadata": {
        "id": "gPt3aQRhxt3c"
      },
      "source": [
        "## Test"
      ]
    },
    {
      "cell_type": "code",
      "metadata": {
        "colab": {
          "base_uri": "https://localhost:8080/"
        },
        "id": "OnzVPzwpYZGS",
        "outputId": "359c83d9-477d-4554-f28f-6cda10a4259a"
      },
      "source": [
        "#driver\r\n",
        "exp1 = \"knows(f(x),y)\"\r\n",
        "exp2 = \"knows(J,f(x))\"\r\n",
        "print(unify(exp1, exp2))"
      ],
      "execution_count": 5,
      "outputs": [
        {
          "output_type": "stream",
          "text": [
            "[('J', 'f(x)'), ('J', 'y')]\n"
          ],
          "name": "stdout"
        }
      ]
    },
    {
      "cell_type": "code",
      "metadata": {
        "colab": {
          "base_uri": "https://localhost:8080/"
        },
        "id": "v203bTcaYgu5",
        "outputId": "20629e14-fe56-414b-99b9-116b1ab8b66c"
      },
      "source": [
        "#driver\r\n",
        "exp1 = \"knows(J,x)\"\r\n",
        "exp2 = \"knows(y,K)\"\r\n",
        "print(unify(exp1, exp2))"
      ],
      "execution_count": 6,
      "outputs": [
        {
          "output_type": "stream",
          "text": [
            "[('J', 'y'), ('K', 'x')]\n"
          ],
          "name": "stdout"
        }
      ]
    },
    {
      "cell_type": "code",
      "metadata": {
        "colab": {
          "base_uri": "https://localhost:8080/"
        },
        "id": "JXJZL2cyzB8j",
        "outputId": "eaabcfb0-24f2-459a-f6e8-92e3d4781638"
      },
      "source": [
        "#driver\r\n",
        "exp1 = \"knows(x,y)\"\r\n",
        "exp2 = \"knows(x,K)\"\r\n",
        "print(unify(exp1, exp2))"
      ],
      "execution_count": 7,
      "outputs": [
        {
          "output_type": "stream",
          "text": [
            "False\n"
          ],
          "name": "stdout"
        }
      ]
    },
    {
      "cell_type": "code",
      "metadata": {
        "colab": {
          "base_uri": "https://localhost:8080/"
        },
        "id": "Y8ltnsAkxsdH",
        "outputId": "57fbaa9d-66c0-4053-9a11-f55cc96bcf10"
      },
      "source": [
        "#driver\r\n",
        "exp1 = \"does(x,f(x))\"\r\n",
        "exp2 = \"does(z,f(z))\"\r\n",
        "print(unify(exp1, exp2))"
      ],
      "execution_count": 8,
      "outputs": [
        {
          "output_type": "stream",
          "text": [
            "[('z', 'x'), ('z', 'x')]\n"
          ],
          "name": "stdout"
        }
      ]
    }
  ]
}