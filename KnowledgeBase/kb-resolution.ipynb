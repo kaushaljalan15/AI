{
  "nbformat": 4,
  "nbformat_minor": 0,
  "metadata": {
    "colab": {
      "name": "kb-resolution",
      "provenance": []
    },
    "kernelspec": {
      "name": "python3",
      "display_name": "Python 3"
    }
  },
  "cells": [
    {
      "cell_type": "markdown",
      "metadata": {
        "id": "W0lafTbgBx5z"
      },
      "source": [
        "# KB Resolution\n",
        "\n",
        "### Create a knowledge base using propositional logic and prove the given query using resolution"
      ]
    },
    {
      "cell_type": "code",
      "metadata": {
        "id": "ZFyN3ErpBoly"
      },
      "source": [
        "def disjunctify(clauses):\n",
        "    disjuncts = []\n",
        "    for clause in clauses:\n",
        "        disjuncts.append(tuple(clause.split('v')))\n",
        "    return disjuncts\n",
        "\n",
        "def getResolvant(ci, cj, di, dj):\n",
        "    resolvant = list(ci) + list(cj)\n",
        "    resolvant.remove(di)\n",
        "    resolvant.remove(dj)\n",
        "    return tuple(resolvant)\n",
        "\n",
        "def resolve(ci, cj):\n",
        "    for di in ci:\n",
        "        for dj in cj:\n",
        "            if di == '~' + dj or dj == '~' + di:\n",
        "                return getResolvant(ci, cj, di, dj)"
      ],
      "execution_count": 1,
      "outputs": []
    },
    {
      "cell_type": "code",
      "metadata": {
        "id": "13r99xr0B8N8"
      },
      "source": [
        "def checkResolution(clauses, query):\n",
        "    clauses += [query if query.startswith('~') else '~' + query]\n",
        "    proposition = '^'.join(['(' + clause + ')' for clause in clauses])\n",
        "    print(f'Trying to prove {proposition} by contradiction....')\n",
        "    \n",
        "    clauses = disjunctify(clauses)\n",
        "    resolved = False\n",
        "    new = set()\n",
        "    \n",
        "    while not resolved:\n",
        "        n = len(clauses)\n",
        "        pairs = [(clauses[i], clauses[j]) for i in range(n) for j in range(i + 1, n)]\n",
        "        for (ci, cj) in pairs:\n",
        "            resolvant = resolve(ci, cj)\n",
        "            if not resolvant:\n",
        "                resolved = True\n",
        "                break\n",
        "            new = new.union(set(resolvents))\n",
        "        if new.issubset(set(clauses)):\n",
        "            break\n",
        "        for clause in new:\n",
        "            if clause not in clauses:\n",
        "                clauses.append(clause)\n",
        "        \n",
        "    if resolved:\n",
        "        print('Knowledge Base entails the query, proved by resolution')\n",
        "    else:\n",
        "        print(\"Knowledge Base doesn't entail the query, no empty set produced after resolution\")"
      ],
      "execution_count": 2,
      "outputs": []
    },
    {
      "cell_type": "markdown",
      "metadata": {
        "id": "XWK-U4OKB_2_"
      },
      "source": [
        "## Tests"
      ]
    },
    {
      "cell_type": "code",
      "metadata": {
        "colab": {
          "base_uri": "https://localhost:8080/"
        },
        "id": "kgDiCqH-B-ac",
        "outputId": "94e5d018-baf1-44b9-a24f-d47b494454c5"
      },
      "source": [
        "# Case 1\n",
        "clauses = input('Enter the clauses ').split()\n",
        "query = input('Enter the query: ')\n",
        "checkResolution(clauses, query)"
      ],
      "execution_count": 5,
      "outputs": [
        {
          "output_type": "stream",
          "text": [
            "Enter the clauses (~BvC)^(AvC)^(~C)^(B)\n",
            "Enter the query: AvC\n",
            "Trying to prove ((~BvC)^(AvC)^(~C)^(B))^(~AvC) by contradiction....\n",
            "Knowledge Base entails the query, proved by resolution\n"
          ],
          "name": "stdout"
        }
      ]
    },
    {
      "cell_type": "code",
      "metadata": {
        "colab": {
          "base_uri": "https://localhost:8080/"
        },
        "id": "LfXCdnb9CCPr",
        "outputId": "cfc75e2a-4fc7-42a0-8396-627ebd244d09"
      },
      "source": [
        "# Case 2\n",
        "clauses = input('Enter the clauses ').split()\n",
        "query = input('Enter the query: ')\n",
        "checkResolution(clauses, query)"
      ],
      "execution_count": 6,
      "outputs": [
        {
          "output_type": "stream",
          "text": [
            "Enter the clauses (~Xv~YvZ)^(~Z^X)^(Y)^(~X)\n",
            "Enter the query: X^Y\n",
            "Trying to prove ((~Xv~YvZ)^(~Z^X)^(Y)^(~X))^(~X^Y) by contradiction....\n",
            "Knowledge Base entails the query, proved by resolution\n"
          ],
          "name": "stdout"
        }
      ]
    },
    {
      "cell_type": "code",
      "metadata": {
        "colab": {
          "base_uri": "https://localhost:8080/"
        },
        "id": "M71QMy3GCeR3",
        "outputId": "e3826f2c-bc59-4de4-f3d7-e9c5e1703f15"
      },
      "source": [
        "# Case 3\n",
        "clauses = input('Enter the clauses ').split()\n",
        "query = input('Enter the query: ')\n",
        "checkResolution(clauses, query)"
      ],
      "execution_count": 10,
      "outputs": [
        {
          "output_type": "stream",
          "text": [
            "Enter the clauses (Q^~P)v(R^P)^~Q\n",
            "Enter the query: R^~Q\n",
            "Trying to prove ((Q^~P)v(R^P)^~Q)^(~R^~Q) by contradiction....\n",
            "Knowledge Base entails the query, proved by resolution\n"
          ],
          "name": "stdout"
        }
      ]
    }
  ]
}