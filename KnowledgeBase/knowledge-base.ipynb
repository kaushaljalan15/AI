{
  "nbformat": 4,
  "nbformat_minor": 0,
  "metadata": {
    "colab": {
      "name": "knowledge-base",
      "provenance": []
    },
    "kernelspec": {
      "name": "python3",
      "display_name": "Python 3"
    }
  },
  "cells": [
    {
      "cell_type": "markdown",
      "metadata": {
        "id": "HCg_lNP4D52E"
      },
      "source": [
        "# Knowledge Base"
      ]
    },
    {
      "cell_type": "code",
      "metadata": {
        "id": "SZThfky6DzoG"
      },
      "source": [
        "combinations=[\n",
        "              (True,True, True),\n",
        "              (True,True,False),\n",
        "              (True,False,True),\n",
        "              (True,False, False),\n",
        "              (False,True, True),\n",
        "              (False,True, False),\n",
        "              (False, False,True),\n",
        "              (False,False, False)\n",
        "              ]\n",
        "\n",
        "variable={'p':0,'q':1, 'r':2}"
      ],
      "execution_count": 1,
      "outputs": []
    },
    {
      "cell_type": "markdown",
      "metadata": {
        "id": "xNvhC6pIEDp4"
      },
      "source": [
        "### Rules"
      ]
    },
    {
      "cell_type": "code",
      "metadata": {
        "id": "RAmz9i5ND7xQ"
      },
      "source": [
        "# rules\n",
        "kb = ''\n",
        "q = ''\n",
        "priority={'~':3, 'v':1, '^':2}"
      ],
      "execution_count": 2,
      "outputs": []
    },
    {
      "cell_type": "code",
      "metadata": {
        "id": "Y9F2flXhEIgX"
      },
      "source": [
        "def input_rules():\n",
        "  global kb, q\n",
        "  kb = (input(\"Enter Rule :\"))\n",
        "  q = input(\"Enter Query : \")\n",
        "\n",
        "def entailment():\n",
        "  global kb, q\n",
        "  print('*' * 10 + \"Truth Table Reference\" + \"*\" * 10)\n",
        "  print(\"kb\", \"alpha\")\n",
        "  print(\"*\" * 10)\n",
        "  for comb in combinations:\n",
        "    s = evaluatePostfix(toPostfix(kb), comb)\n",
        "    f = evaluatePostfix(toPostfix(q), comb)\n",
        "    print(s, f)\n",
        "    print(\"-\" * 10)\n",
        "    if s and not f:\n",
        "      return False\n",
        "  return True"
      ],
      "execution_count": 3,
      "outputs": []
    },
    {
      "cell_type": "code",
      "metadata": {
        "id": "dJJpsZk1ESKK"
      },
      "source": [
        "def isOperand(c):\n",
        "  return c.isalpha() and c != 'v'\n",
        "\n",
        "def isLeftParenthesis(c):\n",
        "  return c == \"(\"\n",
        "\n",
        "def isRightParenthesis(c):\n",
        "  return c == \")\"\n",
        "\n",
        "def isEmpty(stack):\n",
        "  return len(stack) == 0\n",
        "\n",
        "def peek(stack):\n",
        "  return stack[-1]\n",
        "\n",
        "def hasLessOrEqualPriority(c1, c2):\n",
        "  try: return priority[c1] <= priority[c2]\n",
        "  except KeyError: return False"
      ],
      "execution_count": 4,
      "outputs": []
    },
    {
      "cell_type": "code",
      "metadata": {
        "id": "46o2fJVCELNw"
      },
      "source": [
        "def toPostfix(infix):\n",
        "  stack = []\n",
        "  postfix = ''\n",
        "  for c in infix:\n",
        "    if isOperand(c):\n",
        "      postfix += c\n",
        "    else:\n",
        "      if isLeftParenthesis(c):\n",
        "        stack.append(c)\n",
        "      elif isRightParenthesis(c):\n",
        "        operator = stack.pop()\n",
        "        while not isLeftParenthesis(operator):\n",
        "          postfix += operator\n",
        "          operator = stack.pop()\n",
        "      else:\n",
        "        while (not isEmpty(stack)) and hasLessOrEqualPriority(c, peek(stack)):\n",
        "          postfix += stack.pop()\n",
        "        stack.append(c)\n",
        "  while (not isEmpty(stack)):\n",
        "    postfix += stack.pop()\n",
        "  return postfix\n",
        "\n",
        "def _eval(i, val1, val2):\n",
        "    if i == '^': return val2 and val1\n",
        "    return val2 or val1\n",
        "    \n",
        "def evaluatePostfix(exp, comb):\n",
        "  stack = []\n",
        "  for i in exp:\n",
        "    if isOperand(i):\n",
        "      stack.append(comb[variable[i]])\n",
        "    elif i == '~':\n",
        "      val1 = stack.pop()\n",
        "      stack.append(not val1)\n",
        "    else:\n",
        "      val1 = stack.pop()\n",
        "      val2 = stack.pop()\n",
        "      stack.append(_eval(i, val2, val1))\n",
        "  return stack.pop()"
      ],
      "execution_count": 5,
      "outputs": []
    },
    {
      "cell_type": "markdown",
      "metadata": {
        "id": "-J52SWuyEUvf"
      },
      "source": [
        "## Tests"
      ]
    },
    {
      "cell_type": "code",
      "metadata": {
        "colab": {
          "base_uri": "https://localhost:8080/"
        },
        "id": "P4yKPwGCEPN4",
        "outputId": "a8364b09-12b1-4000-c766-64dc772e8980"
      },
      "source": [
        "input_rules()\n",
        "ans = entailment()\n",
        "if ans: print(\"The Knowledge Base Entails Query\")\n",
        "else: print(\"The Knowledge Base Doesn't Entail Query\")"
      ],
      "execution_count": 6,
      "outputs": [
        {
          "output_type": "stream",
          "text": [
            "Enter Rule :(qv~pvr)^(~q^r)^~p\n",
            "Enter Query : p\n",
            "**********Truth Table Reference**********\n",
            "kb alpha\n",
            "**********\n",
            "False True\n",
            "----------\n",
            "False True\n",
            "----------\n",
            "False True\n",
            "----------\n",
            "False True\n",
            "----------\n",
            "False False\n",
            "----------\n",
            "False False\n",
            "----------\n",
            "True False\n",
            "----------\n",
            "The Knowledge Base Doesn't Entail Query\n"
          ],
          "name": "stdout"
        }
      ]
    },
    {
      "cell_type": "code",
      "metadata": {
        "colab": {
          "base_uri": "https://localhost:8080/"
        },
        "id": "h1WN0r-JEVso",
        "outputId": "0be5596e-503a-4e0e-ab64-5ea7f4eea88f"
      },
      "source": [
        "input_rules()\n",
        "ans = entailment()\n",
        "if ans: print(\"The Knowledge Base entails query\")\n",
        "else: print(\"The Knowledge Base does not entail query\")"
      ],
      "execution_count": 7,
      "outputs": [
        {
          "output_type": "stream",
          "text": [
            "Enter Rule :(pvq)^(~qvp)^r\n",
            "Enter Query : r\n",
            "**********Truth Table Reference**********\n",
            "kb alpha\n",
            "**********\n",
            "True True\n",
            "----------\n",
            "False False\n",
            "----------\n",
            "True True\n",
            "----------\n",
            "False False\n",
            "----------\n",
            "False True\n",
            "----------\n",
            "False False\n",
            "----------\n",
            "False True\n",
            "----------\n",
            "False False\n",
            "----------\n",
            "The Knowledge Base entails query\n"
          ],
          "name": "stdout"
        }
      ]
    }
  ]
}