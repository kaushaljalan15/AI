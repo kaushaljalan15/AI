{
  "nbformat": 4,
  "nbformat_minor": 0,
  "metadata": {
    "colab": {
      "name": "AI Lab Test 1",
      "provenance": [],
      "collapsed_sections": []
    },
    "kernelspec": {
      "name": "python3",
      "display_name": "Python 3"
    }
  },
  "cells": [
    {
      "cell_type": "markdown",
      "metadata": {
        "id": "aBQxCfm-iW5h"
      },
      "source": [
        "# AI Lab Test 1\n",
        "\n",
        "### - Aravindh R Shankar (1BM18CS145)"
      ]
    },
    {
      "cell_type": "code",
      "metadata": {
        "id": "2YPSlThzhHgC"
      },
      "source": [
        "def clean(floor, col):\n",
        "    j, n = col, len(floor)\n",
        "    goRight = goLeft = True\n",
        "    cleaned = [not any(floor)]\n",
        "    track  = [1 for _ in range(n)] # to track number of times cleaned\n",
        "\n",
        "    while not all(cleaned):      \n",
        "\n",
        "        # if not clean\n",
        "        while any(floor):\n",
        "            print(f\"Agent Percepts at position {j}:\")\n",
        "            print_floor(floor, j)\n",
        "\n",
        "            # clean it if it's not cleaned more than 3 times\n",
        "            if floor[j] and track[j] < 3:\n",
        "                floor[j] = 0\n",
        "                track[j] += 1\n",
        "                print(f\"Agent Action at position {j}:\")\n",
        "                print(f\"Agent CLEANS:\")\n",
        "                print_floor(floor, j)\n",
        "                print(\"\")\n",
        "\n",
        "            # end if all cleaned\n",
        "            if not any(floor):\n",
        "                cleaned[0] = True\n",
        "                print(\"All cleaned.\")\n",
        "                break\n",
        "\n",
        "            # traverse\n",
        "            if j == n - 1:\n",
        "                j -= 1\n",
        "                goRight = False\n",
        "            elif j == 0:\n",
        "                j += 1\n",
        "                goRight = True\n",
        "            else:\n",
        "                j += 1 if goRight else -1"
      ],
      "execution_count": 6,
      "outputs": []
    },
    {
      "cell_type": "code",
      "metadata": {
        "id": "ETUD3i3niFdR"
      },
      "source": [
        "# helper function to print state\n",
        "def print_floor(floor, col):\n",
        "    for c in range(len(floor)):\n",
        "        if c == col:\n",
        "            print(f\" >{floor[c]}< \", end = '')\n",
        "        else:\n",
        "            print(f\"  {floor[c]}  \", end = '')\n",
        "    print(end = '\\n')"
      ],
      "execution_count": 7,
      "outputs": []
    },
    {
      "cell_type": "markdown",
      "metadata": {
        "id": "TMj44HrbnnoX"
      },
      "source": [
        "## Test cases"
      ]
    },
    {
      "cell_type": "code",
      "metadata": {
        "id": "wxHYkZTYhM8M",
        "outputId": "4c45e85e-cdbc-4622-fcb8-26d52dd12eba",
        "colab": {
          "base_uri": "https://localhost:8080/"
        }
      },
      "source": [
        "floor = [0, 1, 1, 0]\n",
        "clean(floor, 1)"
      ],
      "execution_count": 8,
      "outputs": [
        {
          "output_type": "stream",
          "text": [
            "Agent Percepts at position 1:\n",
            "  0   >1<   1    0  \n",
            "Agent Action at position 1:\n",
            "Agent CLEANS:\n",
            "  0   >0<   1    0  \n",
            "\n",
            "Agent Percepts at position 2:\n",
            "  0    0   >1<   0  \n",
            "Agent Action at position 2:\n",
            "Agent CLEANS:\n",
            "  0    0   >0<   0  \n",
            "\n",
            "All cleaned.\n"
          ],
          "name": "stdout"
        }
      ]
    },
    {
      "cell_type": "code",
      "metadata": {
        "id": "8MSQTojbilOv",
        "outputId": "301d358e-8662-48ab-db37-d7689425626e",
        "colab": {
          "base_uri": "https://localhost:8080/"
        }
      },
      "source": [
        "floor = [0, 0, 0, 1, 0, 1]\n",
        "clean(floor, 0)"
      ],
      "execution_count": 9,
      "outputs": [
        {
          "output_type": "stream",
          "text": [
            "Agent Percepts at position 0:\n",
            " >0<   0    0    1    0    1  \n",
            "Agent Percepts at position 1:\n",
            "  0   >0<   0    1    0    1  \n",
            "Agent Percepts at position 2:\n",
            "  0    0   >0<   1    0    1  \n",
            "Agent Percepts at position 3:\n",
            "  0    0    0   >1<   0    1  \n",
            "Agent Action at position 3:\n",
            "Agent CLEANS:\n",
            "  0    0    0   >0<   0    1  \n",
            "\n",
            "Agent Percepts at position 4:\n",
            "  0    0    0    0   >0<   1  \n",
            "Agent Percepts at position 5:\n",
            "  0    0    0    0    0   >1< \n",
            "Agent Action at position 5:\n",
            "Agent CLEANS:\n",
            "  0    0    0    0    0   >0< \n",
            "\n",
            "All cleaned.\n"
          ],
          "name": "stdout"
        }
      ]
    },
    {
      "cell_type": "code",
      "metadata": {
        "id": "YWcKYDU7hV6A",
        "outputId": "18ec01e5-6ccd-40da-e0e1-c4d30230f801",
        "colab": {
          "base_uri": "https://localhost:8080/"
        }
      },
      "source": [
        "floor = [1, 1, 1, 0, 1, 0, 1 , 1, 1, 0, 1]\n",
        "clean(floor, 2)"
      ],
      "execution_count": 10,
      "outputs": [
        {
          "output_type": "stream",
          "text": [
            "Agent Percepts at position 2:\n",
            "  1    1   >1<   0    1    0    1    1    1    0    1  \n",
            "Agent Action at position 2:\n",
            "Agent CLEANS:\n",
            "  1    1   >0<   0    1    0    1    1    1    0    1  \n",
            "\n",
            "Agent Percepts at position 3:\n",
            "  1    1    0   >0<   1    0    1    1    1    0    1  \n",
            "Agent Percepts at position 4:\n",
            "  1    1    0    0   >1<   0    1    1    1    0    1  \n",
            "Agent Action at position 4:\n",
            "Agent CLEANS:\n",
            "  1    1    0    0   >0<   0    1    1    1    0    1  \n",
            "\n",
            "Agent Percepts at position 5:\n",
            "  1    1    0    0    0   >0<   1    1    1    0    1  \n",
            "Agent Percepts at position 6:\n",
            "  1    1    0    0    0    0   >1<   1    1    0    1  \n",
            "Agent Action at position 6:\n",
            "Agent CLEANS:\n",
            "  1    1    0    0    0    0   >0<   1    1    0    1  \n",
            "\n",
            "Agent Percepts at position 7:\n",
            "  1    1    0    0    0    0    0   >1<   1    0    1  \n",
            "Agent Action at position 7:\n",
            "Agent CLEANS:\n",
            "  1    1    0    0    0    0    0   >0<   1    0    1  \n",
            "\n",
            "Agent Percepts at position 8:\n",
            "  1    1    0    0    0    0    0    0   >1<   0    1  \n",
            "Agent Action at position 8:\n",
            "Agent CLEANS:\n",
            "  1    1    0    0    0    0    0    0   >0<   0    1  \n",
            "\n",
            "Agent Percepts at position 9:\n",
            "  1    1    0    0    0    0    0    0    0   >0<   1  \n",
            "Agent Percepts at position 10:\n",
            "  1    1    0    0    0    0    0    0    0    0   >1< \n",
            "Agent Action at position 10:\n",
            "Agent CLEANS:\n",
            "  1    1    0    0    0    0    0    0    0    0   >0< \n",
            "\n",
            "Agent Percepts at position 9:\n",
            "  1    1    0    0    0    0    0    0    0   >0<   0  \n",
            "Agent Percepts at position 8:\n",
            "  1    1    0    0    0    0    0    0   >0<   0    0  \n",
            "Agent Percepts at position 7:\n",
            "  1    1    0    0    0    0    0   >0<   0    0    0  \n",
            "Agent Percepts at position 6:\n",
            "  1    1    0    0    0    0   >0<   0    0    0    0  \n",
            "Agent Percepts at position 5:\n",
            "  1    1    0    0    0   >0<   0    0    0    0    0  \n",
            "Agent Percepts at position 4:\n",
            "  1    1    0    0   >0<   0    0    0    0    0    0  \n",
            "Agent Percepts at position 3:\n",
            "  1    1    0   >0<   0    0    0    0    0    0    0  \n",
            "Agent Percepts at position 2:\n",
            "  1    1   >0<   0    0    0    0    0    0    0    0  \n",
            "Agent Percepts at position 1:\n",
            "  1   >1<   0    0    0    0    0    0    0    0    0  \n",
            "Agent Action at position 1:\n",
            "Agent CLEANS:\n",
            "  1   >0<   0    0    0    0    0    0    0    0    0  \n",
            "\n",
            "Agent Percepts at position 0:\n",
            " >1<   0    0    0    0    0    0    0    0    0    0  \n",
            "Agent Action at position 0:\n",
            "Agent CLEANS:\n",
            " >0<   0    0    0    0    0    0    0    0    0    0  \n",
            "\n",
            "All cleaned.\n"
          ],
          "name": "stdout"
        }
      ]
    },
    {
      "cell_type": "markdown",
      "metadata": {
        "id": "6Y8sDs5HlrYo"
      },
      "source": [
        "---"
      ]
    }
  ]
}