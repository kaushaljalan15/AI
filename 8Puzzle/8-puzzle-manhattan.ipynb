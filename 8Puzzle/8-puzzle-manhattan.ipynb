{
  "nbformat": 4,
  "nbformat_minor": 0,
  "metadata": {
    "colab": {
      "name": "8 puzzle manhattan",
      "provenance": [],
      "collapsed_sections": []
    },
    "kernelspec": {
      "name": "python3",
      "display_name": "Python 3"
    }
  },
  "cells": [
    {
      "cell_type": "markdown",
      "metadata": {
        "id": "MtkQ9epZUTl-"
      },
      "source": [
        "# 8 Puzzle - Manhattan Distance"
      ]
    },
    {
      "cell_type": "code",
      "metadata": {
        "id": "arr7j9IBULPI"
      },
      "source": [
        "class Node:\n",
        "    def __init__(self,data,level,fval):\n",
        "        self.data = data\n",
        "        self.level = level\n",
        "        self.fval = fval\n",
        "\n",
        "    def generate_child(self):\n",
        "        x,y = self.find(self.data,'_')\n",
        "        val_list = [[x,y-1],[x,y+1],[x-1,y],[x+1,y]]\n",
        "        children = []\n",
        "        for i in val_list:\n",
        "            child = self.move(self.data,x,y,i[0],i[1])\n",
        "            if child is not None:\n",
        "                child_node = Node(child,self.level+1,0)\n",
        "                children.append(child_node)\n",
        "        return children\n",
        "        \n",
        "    def move(self,puz,x1,y1,x2,y2):\n",
        "        if x2 >= 0 and x2 < len(self.data) and y2 >= 0 and y2 < len(self.data):\n",
        "            temp_puz = self.copy(puz)\n",
        "            temp = temp_puz[x2][y2]\n",
        "            temp_puz[x2][y2] = temp_puz[x1][y1]\n",
        "            temp_puz[x1][y1] = temp\n",
        "            return temp_puz\n",
        "        else:\n",
        "            return None\n",
        "            \n",
        "\n",
        "    def copy(self,root):\n",
        "        temp = []\n",
        "        for i in root:\n",
        "            t = []\n",
        "            for j in i:\n",
        "                t.append(j)\n",
        "            temp.append(t)\n",
        "        return temp    \n",
        "            \n",
        "    def find(self,puz,x):\n",
        "        for i in range(0,len(self.data)):\n",
        "            for j in range(0,len(self.data)):\n",
        "                if puz[i][j] == x:\n",
        "                    return i,j"
      ],
      "execution_count": 1,
      "outputs": []
    },
    {
      "cell_type": "code",
      "metadata": {
        "id": "3YR2q3FtSPiq"
      },
      "source": [
        "class Puzzle:\n",
        "    def __init__(self,size):\n",
        "        self.n = size\n",
        "        self.open = []\n",
        "        self.closed = []\n",
        "\n",
        "    def accept(self):\n",
        "        puz = []\n",
        "        for i in range(0,self.n):\n",
        "            temp = input().split(\" \")\n",
        "            puz.append(temp)\n",
        "        return puz\n",
        "\n",
        "    def f(self,start,goal):\n",
        "        return self.h(start.data,goal)+start.level\n",
        "\n",
        "    def h(self,start,goal):\n",
        "        \"\"\"Manhattan Distance\"\"\"\n",
        "        cost = 0\n",
        "        goal = Node(goal, 0, 0)\n",
        "        for i in range(0, self.n):\n",
        "            for j in range(0, self.n):\n",
        "                I, J = goal.find(goal.data, start[i][j])\n",
        "                cost += abs(i-I) + abs(j-J)\n",
        "                \n",
        "        return cost\n",
        "        \n",
        "\n",
        "    def process(self):\n",
        "        print(\"Enter the start state matrix \\n\")\n",
        "        start = self.accept()\n",
        "        print(\"Enter the goal state matrix \\n\")        \n",
        "        goal = self.accept()\n",
        "        ans = 0\n",
        "\n",
        "        start = Node(start,0,0)\n",
        "        start.fval = self.f(start,goal)\n",
        "        self.open.append(start)\n",
        "        print(\"\\n\\n\")\n",
        "        while True:\n",
        "            ans += 1\n",
        "            cur = self.open[0]\n",
        "            print(\"\")\n",
        "            print(\"  | \")\n",
        "            print(\"  | \")\n",
        "            print(\" \\\\\\'/ \\n\")\n",
        "            for i in cur.data:\n",
        "                for j in i:\n",
        "                    print(j,end=\" \")\n",
        "                print(\"\")\n",
        "            if self.h(cur.data,goal) == 0:\n",
        "                break\n",
        "            for i in cur.generate_child():\n",
        "                i.fval = self.f(i,goal)\n",
        "                self.open.append(i)\n",
        "            self.closed.append(cur)\n",
        "            del self.open[0]\n",
        "\n",
        "            self.open.sort(key = lambda x:x.fval,reverse=False)\n",
        "        print(\"\\nMinimum number of steps required to solve this problem is: \",ans)"
      ],
      "execution_count": 2,
      "outputs": []
    },
    {
      "cell_type": "markdown",
      "metadata": {
        "id": "igsAgNfoUbCq"
      },
      "source": [
        "### Tests"
      ]
    },
    {
      "cell_type": "code",
      "metadata": {
        "id": "xts-laVdUcNy",
        "outputId": "345aa5c8-af00-48eb-bd7e-ac2befd682be",
        "colab": {
          "base_uri": "https://localhost:8080/",
          "height": 538
        }
      },
      "source": [
        "puz = Puzzle(3)\n",
        "puz.process()"
      ],
      "execution_count": 3,
      "outputs": [
        {
          "output_type": "stream",
          "text": [
            "Enter the start state matrix \n",
            "\n",
            "1 2 3\n",
            "_ 4 5\n",
            "6 7 8\n",
            "Enter the goal state matrix \n",
            "\n",
            "1 2 3\n",
            "6 4 5\n",
            "_ 7 8\n",
            "\n",
            "\n",
            "\n",
            "\n",
            "  | \n",
            "  | \n",
            " \\'/ \n",
            "\n",
            "1 2 3 \n",
            "_ 4 5 \n",
            "6 7 8 \n",
            "\n",
            "  | \n",
            "  | \n",
            " \\'/ \n",
            "\n",
            "1 2 3 \n",
            "6 4 5 \n",
            "_ 7 8 \n",
            "\n",
            "Minimum number of steps required to solve this problem is:  2\n"
          ],
          "name": "stdout"
        }
      ]
    }
  ]
}