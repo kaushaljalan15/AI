{
  "nbformat": 4,
  "nbformat_minor": 0,
  "metadata": {
    "colab": {
      "name": "8 puzzle bfs",
      "provenance": []
    },
    "kernelspec": {
      "name": "python3",
      "display_name": "Python 3"
    }
  },
  "cells": [
    {
      "cell_type": "markdown",
      "metadata": {
        "id": "S-UmUdVrSScS"
      },
      "source": [
        "# 8 Puzzle - BFS Approach"
      ]
    },
    {
      "cell_type": "code",
      "metadata": {
        "id": "52alQsSbNCl4"
      },
      "source": [
        "def bfs(src,target):\n",
        "    queue = [src]\n",
        "    visited_states = set()\n",
        "    while len(queue):\n",
        "        state = queue.pop(0)\n",
        "        displayGrid(state)\n",
        "        if state == target:\n",
        "            print(f\"Success\")\n",
        "            return\n",
        "        for move in possible_moves(state, visited_states):\n",
        "            if tuple(move) not in queue and tuple(move) not in visited_states:\n",
        "                queue.append(move)\n",
        "                visited_states.add(tuple(state))\n",
        "    print(\"Fail\")"
      ],
      "execution_count": 1,
      "outputs": []
    },
    {
      "cell_type": "code",
      "metadata": {
        "id": "1nX2aGV9mDZs"
      },
      "source": [
        "def displayGrid(src):\n",
        "    state = src.copy()\n",
        "    state[state.index(-1)] = ' '\n",
        "    print(state[0], state[1], state[2])\n",
        "    print(state[3], state[4], state[5])\n",
        "    print(state[6], state[7], state[8])\n",
        "    print()"
      ],
      "execution_count": 2,
      "outputs": []
    },
    {
      "cell_type": "code",
      "metadata": {
        "id": "sqxeUeoNNNww"
      },
      "source": [
        "def possible_moves(state, visited_states): \n",
        "    b = state.index(-1)  \n",
        "    d = []\n",
        "\n",
        "    if b not in [0,1,2]: \n",
        "        d += 'u'\n",
        "    if b not in [6,7,8]:\n",
        "        d += 'd'\n",
        "    if b not in [2,5,8]: \n",
        "        d += 'r'\n",
        "    if b not in [0,3,6]: \n",
        "        d += 'l'\n",
        "\n",
        "    pos_moves = []\n",
        "    for move in d:\n",
        "        pos_moves.append(gen(state,move,b))\n",
        "        \n",
        "    return [move for move in pos_moves if tuple(move) not in visited_states]"
      ],
      "execution_count": 3,
      "outputs": []
    },
    {
      "cell_type": "code",
      "metadata": {
        "id": "y_wlgbSpNQMy"
      },
      "source": [
        "def gen(state, m, b): \n",
        "    temp = state.copy()                              \n",
        "\n",
        "    if m == 'u':\n",
        "        temp[b-3], temp[b] = temp[b], temp[b-3]\n",
        "    if m == 'd':\n",
        "        temp[b+3], temp[b] = temp[b], temp[b+3]\n",
        "    if m == 'r':\n",
        "        temp[b+1], temp[b] = temp[b], temp[b+1]\n",
        "    if m == 'l':\n",
        "        temp[b-1], temp[b] = temp[b], temp[b-1]\n",
        "\n",
        "    return temp"
      ],
      "execution_count": 4,
      "outputs": []
    },
    {
      "cell_type": "markdown",
      "metadata": {
        "id": "wPXXtic-Sci3"
      },
      "source": [
        "### Tests"
      ]
    },
    {
      "cell_type": "code",
      "metadata": {
        "id": "v7AI2CCmNw95",
        "outputId": "19fe074c-55ca-4858-b41a-16221fe931c1",
        "colab": {
          "base_uri": "https://localhost:8080/"
        }
      },
      "source": [
        "src    = [ 1, 2, 3,\n",
        "          -1, 4, 5,\n",
        "           6, 7, 8 ]\n",
        "target = [ 1, 2, 3,\n",
        "           6, 4, 5,\n",
        "          -1, 7, 8 ]\n",
        "\n",
        "bfs(src, target)"
      ],
      "execution_count": 5,
      "outputs": [
        {
          "output_type": "stream",
          "text": [
            "1 2 3\n",
            "  4 5\n",
            "6 7 8\n",
            "\n",
            "  2 3\n",
            "1 4 5\n",
            "6 7 8\n",
            "\n",
            "1 2 3\n",
            "6 4 5\n",
            "  7 8\n",
            "\n",
            "Success\n"
          ],
          "name": "stdout"
        }
      ]
    },
    {
      "cell_type": "code",
      "metadata": {
        "id": "1c0Os-aaNtt_",
        "outputId": "effc4948-3e58-4c25-8bdf-b96ca54db211",
        "colab": {
          "base_uri": "https://localhost:8080/"
        }
      },
      "source": [
        "src    = [ 1, 2, 3,\n",
        "          -1, 4, 5,\n",
        "           6, 7, 8 ]\n",
        "target = [ 1, 2, 3,\n",
        "           4, 5,-1, \n",
        "           6, 7, 8 ]         \n",
        "\n",
        "bfs(src, target)"
      ],
      "execution_count": 6,
      "outputs": [
        {
          "output_type": "stream",
          "text": [
            "1 2 3\n",
            "  4 5\n",
            "6 7 8\n",
            "\n",
            "  2 3\n",
            "1 4 5\n",
            "6 7 8\n",
            "\n",
            "1 2 3\n",
            "6 4 5\n",
            "  7 8\n",
            "\n",
            "1 2 3\n",
            "4   5\n",
            "6 7 8\n",
            "\n",
            "2   3\n",
            "1 4 5\n",
            "6 7 8\n",
            "\n",
            "1 2 3\n",
            "6 4 5\n",
            "7   8\n",
            "\n",
            "1   3\n",
            "4 2 5\n",
            "6 7 8\n",
            "\n",
            "1 2 3\n",
            "4 7 5\n",
            "6   8\n",
            "\n",
            "1 2 3\n",
            "4 5  \n",
            "6 7 8\n",
            "\n",
            "Success\n"
          ],
          "name": "stdout"
        }
      ]
    }
  ]
}